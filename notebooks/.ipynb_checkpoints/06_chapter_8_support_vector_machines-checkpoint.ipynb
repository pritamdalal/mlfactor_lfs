{
 "cells": [
  {
   "cell_type": "code",
   "execution_count": null,
   "id": "d992ceec-56b3-495b-a403-fe9d918a424f",
   "metadata": {},
   "outputs": [
    {
     "name": "stderr",
     "output_type": "stream",
     "text": [
      "2024-04-13 11:39:41.429311: I tensorflow/tsl/cuda/cudart_stub.cc:28] Could not find cuda drivers on your machine, GPU will not be used.\n",
      "2024-04-13 11:39:41.465725: E tensorflow/compiler/xla/stream_executor/cuda/cuda_dnn.cc:9342] Unable to register cuDNN factory: Attempting to register factory for plugin cuDNN when one has already been registered\n",
      "2024-04-13 11:39:41.465752: E tensorflow/compiler/xla/stream_executor/cuda/cuda_fft.cc:609] Unable to register cuFFT factory: Attempting to register factory for plugin cuFFT when one has already been registered\n",
      "2024-04-13 11:39:41.465780: E tensorflow/compiler/xla/stream_executor/cuda/cuda_blas.cc:1518] Unable to register cuBLAS factory: Attempting to register factory for plugin cuBLAS when one has already been registered\n",
      "2024-04-13 11:39:41.472053: I tensorflow/tsl/cuda/cudart_stub.cc:28] Could not find cuda drivers on your machine, GPU will not be used.\n",
      "2024-04-13 11:39:41.472547: I tensorflow/core/platform/cpu_feature_guard.cc:182] This TensorFlow binary is optimized to use available CPU instructions in performance-critical operations.\n",
      "To enable the following instructions: AVX2 FMA, in other operations, rebuild TensorFlow with the appropriate compiler flags.\n",
      "2024-04-13 11:39:42.199001: W tensorflow/compiler/tf2tensorrt/utils/py_utils.cc:38] TF-TRT Warning: Could not find TensorRT\n"
     ]
    }
   ],
   "source": [
    "import numpy as np\n",
    "import pandas as pd"
   ]
  },
  {
   "cell_type": "markdown",
   "id": "325c9a6c-3413-4e46-8b8d-b0532c16376f",
   "metadata": {},
   "source": [
    "## Reading-In Data"
   ]
  },
  {
   "cell_type": "code",
   "execution_count": null,
   "id": "a94675b7-1446-49bb-b929-731f6a8ee1eb",
   "metadata": {},
   "outputs": [
    {
     "name": "stdout",
     "output_type": "stream",
     "text": [
      "Index(['stock_id', 'date', 'Advt_12M_Usd', 'Advt_3M_Usd', 'Advt_6M_Usd',\n",
      "       'Asset_Turnover', 'Bb_Yld', 'Bv', 'Capex_Ps_Cf', 'Capex_Sales',\n",
      "       'Cash_Div_Cf', 'Cash_Per_Share', 'Cf_Sales', 'Debtequity', 'Div_Yld',\n",
      "       'Dps', 'Ebit_Bv', 'Ebit_Noa', 'Ebit_Oa', 'Ebit_Ta', 'Ebitda_Margin',\n",
      "       'Eps', 'Eps_Basic', 'Eps_Basic_Gr', 'Eps_Contin_Oper', 'Eps_Dil', 'Ev',\n",
      "       'Ev_Ebitda', 'Fa_Ci', 'Fcf', 'Fcf_Bv', 'Fcf_Ce', 'Fcf_Margin',\n",
      "       'Fcf_Noa', 'Fcf_Oa', 'Fcf_Ta', 'Fcf_Tbv', 'Fcf_Toa', 'Fcf_Yld',\n",
      "       'Free_Ps_Cf', 'Int_Rev', 'Interest_Expense', 'Mkt_Cap_12M_Usd',\n",
      "       'Mkt_Cap_3M_Usd', 'Mkt_Cap_6M_Usd', 'Mom_11M_Usd', 'Mom_5M_Usd',\n",
      "       'Mom_Sharp_11M_Usd', 'Mom_Sharp_5M_Usd', 'Nd_Ebitda', 'Net_Debt',\n",
      "       'Net_Debt_Cf', 'Net_Margin', 'Netdebtyield', 'Ni', 'Ni_Avail_Margin',\n",
      "       'Ni_Oa', 'Ni_Toa', 'Noa', 'Oa', 'Ocf', 'Ocf_Bv', 'Ocf_Ce', 'Ocf_Margin',\n",
      "       'Ocf_Noa', 'Ocf_Oa', 'Ocf_Ta', 'Ocf_Tbv', 'Ocf_Toa', 'Op_Margin',\n",
      "       'Op_Prt_Margin', 'Oper_Ps_Net_Cf', 'Pb', 'Pe', 'Ptx_Mgn',\n",
      "       'Recurring_Earning_Total_Assets', 'Return_On_Capital', 'Rev', 'Roa',\n",
      "       'Roc', 'Roce', 'Roe', 'Sales_Ps', 'Share_Turn_12M', 'Share_Turn_3M',\n",
      "       'Share_Turn_6M', 'Ta', 'Tev_Less_Mktcap', 'Tot_Debt_Rev',\n",
      "       'Total_Capital', 'Total_Debt', 'Total_Debt_Capital',\n",
      "       'Total_Liabilities_Total_Assets', 'Vol1Y_Usd', 'Vol3Y_Usd', 'R1M_Usd',\n",
      "       'R3M_Usd', 'R6M_Usd', 'R12M_Usd', 'R1M_Usd_median', 'R12M_Usd_median',\n",
      "       'R1M_Usd_C', 'R12M_Usd_C'],\n",
      "      dtype='object')\n"
     ]
    }
   ],
   "source": [
    "pd.options.display.max_seq_items = 200\n",
    "df_ml = pd.read_csv('../data/data_ml_chapter_1.csv')\n",
    "print(df_ml.columns)"
   ]
  },
  {
   "cell_type": "markdown",
   "id": "8b4c119b-ad41-4da8-bc89-f27c1521c76d",
   "metadata": {},
   "source": [
    "## Organizing Feature Names"
   ]
  },
  {
   "cell_type": "code",
   "execution_count": null,
   "id": "35aa3d96-5b3c-4c6e-a4cd-b08ba5386cd3",
   "metadata": {},
   "outputs": [],
   "source": [
    "columns_to_drop = [\n",
    "    'stock_id', 'date', # non-feature identifiers\n",
    "    'R1M_Usd', 'R3M_Usd', 'R6M_Usd', 'R12M_Usd', # possible numeric features \n",
    "    'R1M_Usd_median', 'R12M_Usd_median', # medians used for calculating categorical\n",
    "    'R1M_Usd_C', 'R12M_Usd_C' # possible categorical features\n",
    "]"
   ]
  },
  {
   "cell_type": "code",
   "execution_count": null,
   "id": "43bb5c11-6c0d-4858-b852-6d9aae40b898",
   "metadata": {},
   "outputs": [
    {
     "data": {
      "text/plain": [
       "Index(['Advt_12M_Usd', 'Advt_3M_Usd', 'Advt_6M_Usd', 'Asset_Turnover',\n",
       "       'Bb_Yld', 'Bv', 'Capex_Ps_Cf', 'Capex_Sales', 'Cash_Div_Cf',\n",
       "       'Cash_Per_Share', 'Cf_Sales', 'Debtequity', 'Div_Yld', 'Dps', 'Ebit_Bv',\n",
       "       'Ebit_Noa', 'Ebit_Oa', 'Ebit_Ta', 'Ebitda_Margin', 'Eps', 'Eps_Basic',\n",
       "       'Eps_Basic_Gr', 'Eps_Contin_Oper', 'Eps_Dil', 'Ev', 'Ev_Ebitda',\n",
       "       'Fa_Ci', 'Fcf', 'Fcf_Bv', 'Fcf_Ce', 'Fcf_Margin', 'Fcf_Noa', 'Fcf_Oa',\n",
       "       'Fcf_Ta', 'Fcf_Tbv', 'Fcf_Toa', 'Fcf_Yld', 'Free_Ps_Cf', 'Int_Rev',\n",
       "       'Interest_Expense', 'Mkt_Cap_12M_Usd', 'Mkt_Cap_3M_Usd',\n",
       "       'Mkt_Cap_6M_Usd', 'Mom_11M_Usd', 'Mom_5M_Usd', 'Mom_Sharp_11M_Usd',\n",
       "       'Mom_Sharp_5M_Usd', 'Nd_Ebitda', 'Net_Debt', 'Net_Debt_Cf',\n",
       "       'Net_Margin', 'Netdebtyield', 'Ni', 'Ni_Avail_Margin', 'Ni_Oa',\n",
       "       'Ni_Toa', 'Noa', 'Oa', 'Ocf', 'Ocf_Bv', 'Ocf_Ce', 'Ocf_Margin',\n",
       "       'Ocf_Noa', 'Ocf_Oa', 'Ocf_Ta', 'Ocf_Tbv', 'Ocf_Toa', 'Op_Margin',\n",
       "       'Op_Prt_Margin', 'Oper_Ps_Net_Cf', 'Pb', 'Pe', 'Ptx_Mgn',\n",
       "       'Recurring_Earning_Total_Assets', 'Return_On_Capital', 'Rev', 'Roa',\n",
       "       'Roc', 'Roce', 'Roe', 'Sales_Ps', 'Share_Turn_12M', 'Share_Turn_3M',\n",
       "       'Share_Turn_6M', 'Ta', 'Tev_Less_Mktcap', 'Tot_Debt_Rev',\n",
       "       'Total_Capital', 'Total_Debt', 'Total_Debt_Capital',\n",
       "       'Total_Liabilities_Total_Assets', 'Vol1Y_Usd', 'Vol3Y_Usd'],\n",
       "      dtype='object')"
      ]
     },
     "execution_count": null,
     "metadata": {},
     "output_type": "execute_result"
    }
   ],
   "source": [
    "df_ml.drop(columns=columns_to_drop).columns"
   ]
  },
  {
   "cell_type": "code",
   "execution_count": null,
   "id": "af0afa10-0204-42b7-8117-bd52a7dc4755",
   "metadata": {},
   "outputs": [],
   "source": [
    "# this first line is how they do it in the book and it seems to be wrong\n",
    "#features = list(df_ml.iloc[:,3:95].columns) # Keep the feature's column names (hard-coded, beware!)\n",
    "features = list(df_ml.drop(columns=columns_to_drop).columns)\n",
    "\n",
    "features_short = [\n",
    "    'Div_Yld',\n",
    "    'Eps', \n",
    "    'Mkt_Cap_12M_Usd', \n",
    "    'Mom_11M_Usd', \n",
    "    'Ocf',\n",
    "    'Pb', \n",
    "    'Vol1Y_Usd',\n",
    "]"
   ]
  },
  {
   "cell_type": "markdown",
   "id": "d98bd2d5-7b15-4574-bdf5-8d7d88e2f73b",
   "metadata": {},
   "source": [
    "## Training Data and Test Data"
   ]
  },
  {
   "cell_type": "code",
   "execution_count": null,
   "id": "fdd0f99e-a3e7-4dea-85fd-2a57d3c8217b",
   "metadata": {},
   "outputs": [],
   "source": [
    "separation_date = '2014-01-15'\n",
    "df_train = df_ml.query('date < @separation_date')\n",
    "df_test = df_ml.query('date >= @separation_date')\n",
    "\n",
    "# training data\n",
    "X_train = df_train[features]\n",
    "y_train = df_train['R1M_Usd']\n",
    "\n",
    "# testing data\n",
    "X_test = df_test[features] # Predictors\n",
    "y_test = df_test['R1M_Usd'] # Dependent variable"
   ]
  }
 ],
 "metadata": {
  "kernelspec": {
   "display_name": "python3",
   "language": "python",
   "name": "python3"
  }
 },
 "nbformat": 4,
 "nbformat_minor": 5
}
